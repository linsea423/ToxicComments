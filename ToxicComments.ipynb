{
 "cells": [
  {
   "cell_type": "code",
   "execution_count": 1,
   "metadata": {},
   "outputs": [
    {
     "name": "stderr",
     "output_type": "stream",
     "text": [
      "Using TensorFlow backend.\n"
     ]
    }
   ],
   "source": [
    "import numpy as np\n",
    "import pandas as pd\n",
    "import spacy\n",
    "\n",
    "from sklearn.metrics import roc_auc_score\n",
    "from sklearn.model_selection import train_test_split\n",
    "\n",
    "import tensorflow as tf\n",
    "from keras.preprocessing.text import Tokenizer\n",
    "from keras.preprocessing.sequence import pad_sequences\n",
    "from keras.layers import Dense, Embedding, Dropout, GRU, Conv1D\n",
    "from keras.layers import Bidirectional, GlobalMaxPool1D, SpatialDropout1D\n",
    "from keras.models import Model, load_model, Sequential\n",
    "from keras import backend as K\n",
    "from keras.optimizers import Adam\n",
    "from keras.callbacks import EarlyStopping, ModelCheckpoint, LambdaCallback, Callback\n",
    "\n",
    "from IPython.display import display\n",
    "import matplotlib.pyplot as plt\n",
    "%matplotlib inline"
   ]
  },
  {
   "cell_type": "code",
   "execution_count": 2,
   "metadata": {},
   "outputs": [],
   "source": [
    "pd.set_option(\"display.max_columns\", 50)\n",
    "pd.set_option(\"display.max_rows\", 50)\n",
    "pd.set_option(\"display.max_colwidth\", 500)"
   ]
  },
  {
   "cell_type": "code",
   "execution_count": 3,
   "metadata": {},
   "outputs": [],
   "source": [
    "EMBED_SIZE = 300\n",
    "MAX_FEATURES = 200000\n",
    "MAX_WORDS = 350\n",
    "BATCH_SIZE = 256\n",
    "EPOCHS = 100"
   ]
  },
  {
   "cell_type": "code",
   "execution_count": 4,
   "metadata": {
    "scrolled": true
   },
   "outputs": [],
   "source": [
    "train = pd.read_csv(\"./train.csv\")\n",
    "test = pd.read_csv(\"./test.csv\")\n",
    "embedding_path = \"./glove.840B.300d.txt\"\n",
    "\n",
    "list_classes = [\"toxic\", \"severe_toxic\", \"obscene\", \"threat\", \"insult\", \"identity_hate\"]\n",
    "y = train[list_classes].values\n",
    "\n",
    "##It seems there are no missing comments\n",
    "# train[\"comment_text\"].fillna(\"unknown\", inplace=True)\n",
    "# test[\"comment_text\"].fillna(\"unknown\", inplace=True)"
   ]
  },
  {
   "cell_type": "code",
   "execution_count": 5,
   "metadata": {},
   "outputs": [],
   "source": [
    "# Load spacy model\n",
    "nlp = spacy.load('en_core_web_md', parser=False, entity=False)"
   ]
  },
  {
   "cell_type": "code",
   "execution_count": 6,
   "metadata": {},
   "outputs": [],
   "source": [
    "##split the training data into training and validation ddatasets\n",
    "X_train, X_valid, Y_train, Y_valid = train_test_split(train, y, test_size = 0.1)\n",
    "\n",
    "raw_text_train = X_train[\"comment_text\"]\n",
    "raw_text_valid = X_valid[\"comment_text\"]\n",
    "raw_text_test = test[\"comment_text\"]\n",
    "X_test = test.copy()"
   ]
  },
  {
   "cell_type": "code",
   "execution_count": 7,
   "metadata": {
    "scrolled": true
   },
   "outputs": [
    {
     "name": "stderr",
     "output_type": "stream",
     "text": [
      "c:\\python\\python37\\lib\\site-packages\\ipykernel_launcher.py:3: SettingWithCopyWarning: \n",
      "A value is trying to be set on a copy of a slice from a DataFrame.\n",
      "Try using .loc[row_indexer,col_indexer] = value instead\n",
      "\n",
      "See the caveats in the documentation: http://pandas.pydata.org/pandas-docs/stable/indexing.html#indexing-view-versus-copy\n",
      "  This is separate from the ipykernel package so we can avoid doing imports until\n",
      "c:\\python\\python37\\lib\\site-packages\\ipykernel_launcher.py:4: SettingWithCopyWarning: \n",
      "A value is trying to be set on a copy of a slice from a DataFrame.\n",
      "Try using .loc[row_indexer,col_indexer] = value instead\n",
      "\n",
      "See the caveats in the documentation: http://pandas.pydata.org/pandas-docs/stable/indexing.html#indexing-view-versus-copy\n",
      "  after removing the cwd from sys.path.\n"
     ]
    }
   ],
   "source": [
    "##Covert the comments into sequence\n",
    "tk = Tokenizer(num_words = MAX_FEATURES, lower = False)\n",
    "tk.fit_on_texts(pd.concat([train[\"comment_text\"], test[\"comment_text\"]]))\n",
    "X_train[\"comment_seq\"] = tk.texts_to_sequences(raw_text_train)\n",
    "X_valid[\"comment_seq\"] = tk.texts_to_sequences(raw_text_valid)\n",
    "X_test[\"comment_seq\"] = tk.texts_to_sequences(raw_text_test)"
   ]
  },
  {
   "cell_type": "code",
   "execution_count": 8,
   "metadata": {},
   "outputs": [
    {
     "data": {
      "text/plain": [
       "(array([18203., 23903., 19906., 14656., 11604.,  9152.,  7036.,  5485.,\n",
       "         4360.,  3566.,  2971.,  2520.,  2164.,  1734.,  1558.,  1341.,\n",
       "         1311.,  1149.,  1007.,   757.,   747.,   682.,   564.,   517.,\n",
       "          461.,   440.,   380.,   352.,   374.,   246.,   273.,   255.,\n",
       "          191.,   177.,   143.,   148.,   149.,   138.,   129.,   119.]),\n",
       " array([  0,  10,  20,  30,  40,  50,  60,  70,  80,  90, 100, 110, 120,\n",
       "        130, 140, 150, 160, 170, 180, 190, 200, 210, 220, 230, 240, 250,\n",
       "        260, 270, 280, 290, 300, 310, 320, 330, 340, 350, 360, 370, 380,\n",
       "        390, 400]),\n",
       " <a list of 40 Patch objects>)"
      ]
     },
     "execution_count": 8,
     "metadata": {},
     "output_type": "execute_result"
    },
    {
     "data": {
      "image/png": "[encoded data removed]",
      "text/plain": [
       "<Figure size 432x288 with 1 Axes>"
      ]
     },
     "metadata": {
      "needs_background": "light"
     },
     "output_type": "display_data"
    }
   ],
   "source": [
    "##Try to figure out the max number of words to keep based on histogram\n",
    "totalNumWords = np.asarray([len(one_comment) for one_comment in X_train[\"comment_seq\"].values])\n",
    "plt.hist(totalNumWords,bins = np.arange(0,410,10))"
   ]
  },
  {
   "cell_type": "code",
   "execution_count": 9,
   "metadata": {},
   "outputs": [],
   "source": [
    "#Oftentimes the words at the end also important\n",
    "def get_seq_at_two_ends(seq):\n",
    "    if len(seq)>MAX_WORDS:\n",
    "        return seq[:MAX_WORDS-20] + seq[-20:]\n",
    "    else:\n",
    "        return seq"
   ]
  },
  {
   "cell_type": "code",
   "execution_count": 10,
   "metadata": {
    "scrolled": true
   },
   "outputs": [
    {
     "name": "stderr",
     "output_type": "stream",
     "text": [
      "c:\\python\\python37\\lib\\site-packages\\ipykernel_launcher.py:1: SettingWithCopyWarning: \n",
      "A value is trying to be set on a copy of a slice from a DataFrame.\n",
      "Try using .loc[row_indexer,col_indexer] = value instead\n",
      "\n",
      "See the caveats in the documentation: http://pandas.pydata.org/pandas-docs/stable/indexing.html#indexing-view-versus-copy\n",
      "  \"\"\"Entry point for launching an IPython kernel.\n",
      "c:\\python\\python37\\lib\\site-packages\\ipykernel_launcher.py:2: SettingWithCopyWarning: \n",
      "A value is trying to be set on a copy of a slice from a DataFrame.\n",
      "Try using .loc[row_indexer,col_indexer] = value instead\n",
      "\n",
      "See the caveats in the documentation: http://pandas.pydata.org/pandas-docs/stable/indexing.html#indexing-view-versus-copy\n",
      "  \n"
     ]
    }
   ],
   "source": [
    "##Get the words at the beginning and and the end as the final comment feature\n",
    "X_train[\"comment_seq\"] = X_train[\"comment_seq\"].apply(lambda seq: get_seq_at_two_ends(seq))\n",
    "X_valid[\"comment_seq\"] = X_valid[\"comment_seq\"].apply(lambda seq: get_seq_at_two_ends(seq))\n",
    "X_test[\"comment_seq\"] = X_test[\"comment_seq\"].apply(lambda seq: get_seq_at_two_ends(seq))"
   ]
  },
  {
   "cell_type": "code",
   "execution_count": 11,
   "metadata": {},
   "outputs": [],
   "source": [
    "###Make the input comments the same lengths\n",
    "X_train = pad_sequences(X_train.comment_seq, maxlen = MAX_WORDS)\n",
    "X_valid = pad_sequences(X_valid.comment_seq, maxlen = MAX_WORDS)\n",
    "X_test = pad_sequences(X_test.comment_seq, maxlen = MAX_WORDS)"
   ]
  },
  {
   "cell_type": "code",
   "execution_count": 12,
   "metadata": {},
   "outputs": [],
   "source": [
    "###Get the map of word to the index from the GloVe pretrained embedding matrix\n",
    "embedding_index = {}\n",
    "with open(embedding_path, encoding='utf-8') as em:\n",
    "    for o in em:\n",
    "        word_embed = o.strip().split(\" \")\n",
    "        embedding_index[word_embed[0]] = np.asarray(word_embed[1:], dtype='float16')"
   ]
  },
  {
   "cell_type": "code",
   "execution_count": 13,
   "metadata": {},
   "outputs": [],
   "source": [
    "###Get the embedding matrix for our input features from GloVe embedding weights\n",
    "MAX_FEATURES = min(MAX_FEATURES, len(tk.word_index))\n",
    "embedding_matrix = np.zeros((MAX_FEATURES, EMBED_SIZE))\n",
    "for word, i in tk.word_index.items():\n",
    "    if i >= MAX_FEATURES: continue\n",
    "    embedding_vector = embedding_index.get(word)\n",
    "    if embedding_vector is not None: embedding_matrix[i] = embedding_vector"
   ]
  },
  {
   "cell_type": "code",
   "execution_count": 14,
   "metadata": {},
   "outputs": [],
   "source": [
    "###Custom metric. In this case, auc under roc\n",
    "def auc_acc(y_true, y_pred):\n",
    "    # return tf.py_function(roc_auc_score, (y_true, y_pred), tf.float32)\n",
    "    auc = tf.metrics.auc(y_true, y_pred)[1]\n",
    "    K.get_session().run(tf.local_variables_initializer())\n",
    "    return auc"
   ]
  },
  {
   "cell_type": "code",
   "execution_count": 15,
   "metadata": {},
   "outputs": [],
   "source": [
    "####The first model structure \n",
    "# def build_model(lr = 1e-3, lr_d = 1e-6, units = 128, dr = 0.2):\n",
    "#     model = Sequential()\n",
    "    \n",
    "#     model.add(Embedding(MAX_FEATURES, EMBED_SIZE, weights = [embedding_matrix], trainable = False, input_shape=(MAX_WORDS,)))\n",
    "#     model.add(SpatialDropout1D(rate=dr))\n",
    "\n",
    "#     model.add(Bidirectional(GRU(units, return_sequences = True)))\n",
    "#     model.add(Bidirectional(GRU(units, return_sequences = True)))\n",
    "#     model.add(GlobalMaxPool1D())\n",
    "    \n",
    "#     model.add(Dense(50, activation='relu'))\n",
    "#     model.add(Dropout(rate=dr))\n",
    "#     model.add(Dense(6, activation = \"sigmoid\"))\n",
    "    \n",
    "#     model.compile(loss = \"binary_crossentropy\", optimizer = Adam(lr = lr, decay = lr_d), metrics = [auc_acc])\n",
    "    \n",
    "#     return model"
   ]
  },
  {
   "cell_type": "code",
   "execution_count": 16,
   "metadata": {},
   "outputs": [],
   "source": [
    "####The second model structure\n",
    "def build_model(lr = 1e-3, lr_d = 1e-6, units = 128, dr = 0.2):\n",
    "    model = Sequential()\n",
    "    \n",
    "    model.add(Embedding(MAX_FEATURES, EMBED_SIZE, weights = [embedding_matrix], trainable = False, input_shape=(MAX_WORDS,)))\n",
    "    model.add(SpatialDropout1D(rate=dr))\n",
    "\n",
    "    model.add(Bidirectional(GRU(units, return_sequences = True, dropout=dr, recurrent_dropout=dr)))\n",
    "    model.add(Bidirectional(GRU(units, return_sequences = True, dropout=dr, recurrent_dropout=dr)))\n",
    "    model.add(Conv1D(units, kernel_size=3, padding='valid', activation=None))\n",
    "    model.add(Dropout(rate=dr))\n",
    "    model.add(GlobalMaxPool1D())\n",
    "    \n",
    "    model.add(Dense(50, activation='relu'))\n",
    "    model.add(Dropout(rate=dr))\n",
    "    model.add(Dense(6, activation = \"sigmoid\"))\n",
    "    \n",
    "    model.compile(loss = \"binary_crossentropy\", optimizer = Adam(lr = lr, decay = lr_d), metrics = [auc_acc])\n",
    "    \n",
    "    return model"
   ]
  },
  {
   "cell_type": "code",
   "execution_count": 17,
   "metadata": {},
   "outputs": [
    {
     "name": "stdout",
     "output_type": "stream",
     "text": [
      "WARNING:tensorflow:From c:\\python\\python37\\lib\\site-packages\\tensorflow\\python\\framework\\op_def_library.py:263: colocate_with (from tensorflow.python.framework.ops) is deprecated and will be removed in a future version.\n",
      "Instructions for updating:\n",
      "Colocations handled automatically by placer.\n",
      "WARNING:tensorflow:From c:\\python\\python37\\lib\\site-packages\\keras\\backend\\tensorflow_backend.py:3445: calling dropout (from tensorflow.python.ops.nn_ops) with keep_prob is deprecated and will be removed in a future version.\n",
      "Instructions for updating:\n",
      "Please use `rate` instead of `keep_prob`. Rate should be set to `rate = 1 - keep_prob`.\n",
      "WARNING:tensorflow:From c:\\python\\python37\\lib\\site-packages\\tensorflow\\python\\ops\\metrics_impl.py:526: to_float (from tensorflow.python.ops.math_ops) is deprecated and will be removed in a future version.\n",
      "Instructions for updating:\n",
      "Use tf.cast instead.\n",
      "WARNING:tensorflow:From c:\\python\\python37\\lib\\site-packages\\tensorflow\\python\\ops\\metrics_impl.py:788: div (from tensorflow.python.ops.math_ops) is deprecated and will be removed in a future version.\n",
      "Instructions for updating:\n",
      "Deprecated in favor of operator or tf.math.divide.\n",
      "_________________________________________________________________\n",
      "Layer (type)                 Output Shape              Param #   \n",
      "=================================================================\n",
      "embedding_1 (Embedding)      (None, 350, 300)          60000000  \n",
      "_________________________________________________________________\n",
      "spatial_dropout1d_1 (Spatial (None, 350, 300)          0         \n",
      "_________________________________________________________________\n",
      "bidirectional_1 (Bidirection (None, 350, 256)          329472    \n",
      "_________________________________________________________________\n",
      "bidirectional_2 (Bidirection (None, 350, 256)          295680    \n",
      "_________________________________________________________________\n",
      "conv1d_1 (Conv1D)            (None, 348, 128)          98432     \n",
      "_________________________________________________________________\n",
      "dropout_1 (Dropout)          (None, 348, 128)          0         \n",
      "_________________________________________________________________\n",
      "global_max_pooling1d_1 (Glob (None, 128)               0         \n",
      "_________________________________________________________________\n",
      "dense_1 (Dense)              (None, 50)                6450      \n",
      "_________________________________________________________________\n",
      "dropout_2 (Dropout)          (None, 50)                0         \n",
      "_________________________________________________________________\n",
      "dense_2 (Dense)              (None, 6)                 306       \n",
      "=================================================================\n",
      "Total params: 60,730,340\n",
      "Trainable params: 730,340\n",
      "Non-trainable params: 60,000,000\n",
      "_________________________________________________________________\n"
     ]
    }
   ],
   "source": [
    "####It will be ideal to use GridSearchCV and KerasClassifier to tune the hyper-parameters.\n",
    "####But it takes long time to train the model. Therefore, no search is made.\n",
    "model = build_model(lr = 1e-3, lr_d = 1e-6, units = 128, dr = 0.2)\n",
    "model.summary()"
   ]
  },
  {
   "cell_type": "code",
   "execution_count": 18,
   "metadata": {},
   "outputs": [
    {
     "name": "stdout",
     "output_type": "stream",
     "text": [
      "WARNING:tensorflow:From c:\\python\\python37\\lib\\site-packages\\tensorflow\\python\\ops\\math_ops.py:3066: to_int32 (from tensorflow.python.ops.math_ops) is deprecated and will be removed in a future version.\n",
      "Instructions for updating:\n",
      "Use tf.cast instead.\n",
      "Train on 143613 samples, validate on 15958 samples\n",
      "Epoch 1/100\n",
      " - 947s - loss: 0.0685 - auc_acc: 0.9047 - val_loss: 0.0492 - val_auc_acc: 0.9622\n",
      "   Epoch 1 - Previous auc: 0.0000, Previous loss: 1.0000; New auc: 0.9622, New loss: 0.0492\n",
      "Epoch 2/100\n",
      " - 949s - loss: 0.0484 - auc_acc: 0.9688 - val_loss: 0.0470 - val_auc_acc: 0.9727\n",
      "   Epoch 2 - Previous auc: 0.9622, Previous loss: 0.0492; New auc: 0.9727, New loss: 0.0470\n",
      "Epoch 3/100\n",
      " - 966s - loss: 0.0452 - auc_acc: 0.9751 - val_loss: 0.0429 - val_auc_acc: 0.9769\n",
      "   Epoch 3 - Previous auc: 0.9727, Previous loss: 0.0470; New auc: 0.9769, New loss: 0.0429\n",
      "Epoch 4/100\n",
      " - 966s - loss: 0.0432 - auc_acc: 0.9782 - val_loss: 0.0418 - val_auc_acc: 0.9793\n",
      "   Epoch 4 - Previous auc: 0.9769, Previous loss: 0.0429; New auc: 0.9793, New loss: 0.0418\n",
      "Epoch 5/100\n",
      " - 957s - loss: 0.0417 - auc_acc: 0.9802 - val_loss: 0.0411 - val_auc_acc: 0.9809\n",
      "   Epoch 5 - Previous auc: 0.9793, Previous loss: 0.0418; New auc: 0.9809, New loss: 0.0411\n",
      "Epoch 6/100\n",
      " - 971s - loss: 0.0406 - auc_acc: 0.9815 - val_loss: 0.0439 - val_auc_acc: 0.9821\n",
      "Epoch 7/100\n",
      " - 958s - loss: 0.0393 - auc_acc: 0.9826 - val_loss: 0.0413 - val_auc_acc: 0.9830\n",
      "Epoch 8/100\n",
      " - 960s - loss: 0.0384 - auc_acc: 0.9834 - val_loss: 0.0414 - val_auc_acc: 0.9838\n",
      "Epoch 9/100\n",
      " - 970s - loss: 0.0374 - auc_acc: 0.9842 - val_loss: 0.0415 - val_auc_acc: 0.9845\n",
      "Epoch 10/100\n",
      " - 978s - loss: 0.0365 - auc_acc: 0.9848 - val_loss: 0.0422 - val_auc_acc: 0.9850\n",
      "Epoch 11/100\n",
      " - 993s - loss: 0.0352 - auc_acc: 0.9853 - val_loss: 0.0424 - val_auc_acc: 0.9856\n",
      "   Epoch 11: early stopped\n"
     ]
    }
   ],
   "source": [
    "####The metrics I am looking at is both binary_crossentropy and auc. Therefore, define a custom callback\n",
    "class saveModel(Callback):\n",
    "    def __init__(self, patience=3, file_path=\"best_model.hdf5\", verbose=0):\n",
    "        super(Callback, self).__init__()\n",
    "        self.patience = patience\n",
    "        self.file_path = file_path\n",
    "        self.verbose = verbose\n",
    "        \n",
    "    def on_train_begin(self, logs={}):\n",
    "        self.best_auc = 0\n",
    "        self.best_loss = 1\n",
    "        self.halt = 0        \n",
    "\n",
    "    def on_epoch_end(self, epoch, logs={}):\n",
    "        if logs['val_auc_acc']>self.best_auc and logs['val_loss']<self.best_loss:\n",
    "            if self.verbose > 0:\n",
    "                print('   Epoch {} - Previous auc: {:.4f}, Previous loss: {:.4f}; New auc: {:.4f}, New loss: {:.4f}' \\\n",
    "                      .format(epoch+1, self.best_auc, self.best_loss, logs['val_auc_acc'], logs['val_loss']))\n",
    "            self.best_auc = logs['val_auc_acc']\n",
    "            self.best_loss = logs['val_loss']\n",
    "            self.model.save(self.file_path)\n",
    "        if logs['val_auc_acc']<self.best_auc or logs['val_loss']>self.best_loss:\n",
    "            self.halt += 1\n",
    "        else:\n",
    "            self.halt = 0\n",
    "        if self.halt > self.patience:\n",
    "            if self.verbose > 0:\n",
    "                print(\"   Epoch {}: early stopped. auc: {:.4f}, loss: {:.4f}\".format(epoch+1, self.best_auc, self.best_loss))\n",
    "            self.model.stop_training = True\n",
    "\n",
    "model_callback = saveModel(patience=5, verbose=1)\n",
    "\n",
    "history = model.fit(X_train, Y_train, batch_size = BATCH_SIZE, shuffle=True, epochs = EPOCHS, validation_data = (X_valid, Y_valid), \n",
    "                        verbose = 2, callbacks = [model_callback])"
   ]
  },
  {
   "cell_type": "code",
   "execution_count": 19,
   "metadata": {},
   "outputs": [
    {
     "data": {
      "text/plain": [
       "Text(0.5, 0, 'epoch')"
      ]
     },
     "execution_count": 19,
     "metadata": {},
     "output_type": "execute_result"
    },
    {
     "data": {
      "image/png": "[encoded data removed]",
      "text/plain": [
       "<Figure size 576x576 with 2 Axes>"
      ]
     },
     "metadata": {
      "needs_background": "light"
     },
     "output_type": "display_data"
    }
   ],
   "source": [
    "auc_accuracy = history.history['auc_acc']\n",
    "val_auc_accuracy = history.history['val_auc_acc']\n",
    "\n",
    "loss = history.history['loss']\n",
    "val_loss = history.history['val_loss']\n",
    "\n",
    "plt.figure(figsize=(8, 8))\n",
    "plt.subplot(2, 1, 1)\n",
    "plt.plot(auc_accuracy, label='Training auc')\n",
    "plt.plot(val_auc_accuracy, label='Validation auc')\n",
    "plt.legend(loc='lower right')\n",
    "plt.ylabel('auc_accuracyuracy')\n",
    "plt.title('Training and Validation auc')\n",
    "\n",
    "plt.subplot(2, 1, 2)\n",
    "plt.plot(loss, label='Training Loss')\n",
    "plt.plot(val_loss, label='Validation Loss')\n",
    "plt.legend(loc='upper right')\n",
    "plt.ylabel('Cross Entropy')\n",
    "plt.title('Training and Validation Loss')\n",
    "plt.xlabel('epoch')"
   ]
  },
  {
   "cell_type": "code",
   "execution_count": 20,
   "metadata": {},
   "outputs": [],
   "source": [
    "file_path = \"best_model.hdf5\"\n",
    "model = load_model(file_path, custom_objects={\"auc_acc\":auc_acc})"
   ]
  },
  {
   "cell_type": "code",
   "execution_count": 21,
   "metadata": {},
   "outputs": [
    {
     "name": "stdout",
     "output_type": "stream",
     "text": [
      "143613/143613 [==============================] - ETA: 3: - ETA: 2: - ETA: 2: - ETA: 2: - ETA: 2: - ETA: 2: - ETA: 2: - ETA: 2: - ETA: 2: - ETA: 2: - ETA: 1: - ETA: 1: - ETA: 1: - ETA: 1: - ETA: 1: - ETA: 1: - ETA: 1: - ETA: 1: - ETA: 1: - ETA: 1: - ETA: 1: - ETA: 1: - ETA: 1: - ETA: 1: - ETA: 1: - ETA: 1: - ETA: 1: - ETA: 1: - ETA: 1: - ETA: 1: - ETA: 1: - ETA: 1: - ETA: 1: - ETA: 1: - ETA: 1: - ETA: 1: - ETA: 1: - ETA: 1: - ETA: 1: - ETA: 1: - ETA: 1: - ETA: 1: - ETA: 1: - ETA: 1: - ETA: 1: - ETA: 1: - ETA: 1: - ETA: 1: - ETA: 1: - ETA: 1: - ETA: 1: - ETA: 1: - ETA: 1: - ETA: 1: - ETA: 1: - ETA: 1: - ETA: 1: - ETA: 1: - ETA: 1: - ETA: 1: - ETA: 1: - ETA: 1: - ETA: 1: - ETA: 1: - ETA: 1: - ETA: 1: - ETA: 1: - ETA: 1: - ETA: 1: - ETA: 1: - ETA: 59s - ETA: 59 - ETA: 58 - ETA: 57 - ETA: 56 - ETA: 55 - ETA: 54 - ETA: 53 - ETA: 52 - ETA: 52 - ETA: 51 - ETA: 50 - ETA: 49 - ETA: 48 - ETA: 47 - ETA: 46 - ETA: 45 - ETA: 45 - ETA: 44 - ETA: 43 - ETA: 42 - ETA: 41 - ETA: 40 - ETA: 39 - ETA: 38 - ETA: 38 - ETA: 37 - ETA: 36 - ETA: 35 - ETA: 34 - ETA: 33 - ETA: 32 - ETA: 32 - ETA: 31 - ETA: 30 - ETA: 29 - ETA: 28 - ETA: 27 - ETA: 26 - ETA: 26 - ETA: 25 - ETA: 24 - ETA: 23 - ETA: 22 - ETA: 21 - ETA: 20 - ETA: 20 - ETA: 19 - ETA: 18 - ETA: 17 - ETA: 16 - ETA: 15 - ETA: 14 - ETA: 13 - ETA: 13 - ETA: 12 - ETA: 11 - ETA: 10 - ETA: 9 - ETA:  - ETA:  - ETA:  - ETA:  - ETA:  - ETA:  - ETA:  - ETA:  - ETA:  - ETA:  - ETA:  - 121s 841us/step\n"
     ]
    }
   ],
   "source": [
    "pred_train = model.predict(X_train, batch_size = 1024, verbose = 1)"
   ]
  },
  {
   "cell_type": "code",
   "execution_count": 22,
   "metadata": {},
   "outputs": [
    {
     "data": {
      "text/plain": [
       "0.991875406334081"
      ]
     },
     "execution_count": 22,
     "metadata": {},
     "output_type": "execute_result"
    }
   ],
   "source": [
    "roc_auc_score(Y_train, pred_train)"
   ]
  },
  {
   "cell_type": "code",
   "execution_count": 23,
   "metadata": {},
   "outputs": [
    {
     "name": "stdout",
     "output_type": "stream",
     "text": [
      "15958/15958 [==============================] - ETA: 12 - ETA: 11 - ETA: 10 - ETA: 9 - ETA:  - ETA:  - ETA:  - ETA:  - ETA:  - ETA:  - ETA:  - ETA:  - ETA:  - ETA:  - ETA:  - 14s 851us/step\n"
     ]
    }
   ],
   "source": [
    "pred_val = model.predict(X_valid, batch_size = 1024, verbose = 1)"
   ]
  },
  {
   "cell_type": "code",
   "execution_count": 24,
   "metadata": {},
   "outputs": [
    {
     "data": {
      "text/plain": [
       "0.9875985773980558"
      ]
     },
     "execution_count": 24,
     "metadata": {},
     "output_type": "execute_result"
    }
   ],
   "source": [
    "roc_auc_score(Y_valid, pred_val)"
   ]
  },
  {
   "cell_type": "code",
   "execution_count": 25,
   "metadata": {},
   "outputs": [],
   "source": [
    "###Not all test samples are used in validation. Some test samples do not have labels, which are all -1\n",
    "test_labels = pd.read_csv(\"./test_labels.csv\")\n",
    "valid_test_samples = test_labels[test_labels.iloc[:,1:].sum(axis=1)>=0].index\n",
    "test_labels = test_labels.iloc[valid_test_samples,1:].values\n",
    "X_test_labels = X_test[valid_test_samples,:].copy()"
   ]
  },
  {
   "cell_type": "code",
   "execution_count": 26,
   "metadata": {},
   "outputs": [
    {
     "name": "stdout",
     "output_type": "stream",
     "text": [
      "63978/63978 [==============================] - ETA: 52 - ETA: 51 - ETA: 50 - ETA: 49 - ETA: 49 - ETA: 48 - ETA: 47 - ETA: 46 - ETA: 45 - ETA: 45 - ETA: 44 - ETA: 43 - ETA: 42 - ETA: 41 - ETA: 40 - ETA: 39 - ETA: 38 - ETA: 37 - ETA: 37 - ETA: 36 - ETA: 35 - ETA: 34 - ETA: 33 - ETA: 32 - ETA: 31 - ETA: 31 - ETA: 30 - ETA: 29 - ETA: 28 - ETA: 27 - ETA: 26 - ETA: 25 - ETA: 25 - ETA: 24 - ETA: 23 - ETA: 22 - ETA: 21 - ETA: 20 - ETA: 20 - ETA: 19 - ETA: 18 - ETA: 17 - ETA: 16 - ETA: 15 - ETA: 14 - ETA: 14 - ETA: 13 - ETA: 12 - ETA: 11 - ETA: 10 - ETA: 9 - ETA:  - ETA:  - ETA:  - ETA:  - ETA:  - ETA:  - ETA:  - ETA:  - ETA:  - ETA:  - ETA:  - 54s 839us/step\n"
     ]
    }
   ],
   "source": [
    "pred_test = model.predict(X_test_labels, batch_size = 1024, verbose = 1)"
   ]
  },
  {
   "cell_type": "code",
   "execution_count": 27,
   "metadata": {},
   "outputs": [
    {
     "data": {
      "text/plain": [
       "0.9821180093767454"
      ]
     },
     "execution_count": 27,
     "metadata": {},
     "output_type": "execute_result"
    }
   ],
   "source": [
    "roc_auc_score(test_labels, pred_test)"
   ]
  }
 ],
 "metadata": {
  "kernelspec": {
   "display_name": "Python 3",
   "language": "python",
   "name": "python3"
  },
  "language_info": {
   "codemirror_mode": {
    "name": "ipython",
    "version": 3
   },
   "file_extension": ".py",
   "mimetype": "text/x-python",
   "name": "python",
   "nbconvert_exporter": "python",
   "pygments_lexer": "ipython3",
   "version": "3.7.2"
  }
 },
 "nbformat": 4,
 "nbformat_minor": 2
}
